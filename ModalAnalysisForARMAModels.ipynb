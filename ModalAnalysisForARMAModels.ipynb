{
 "cells": [
  {
   "cell_type": "markdown",
   "metadata": {},
   "source": [
    "# how to decompose the impulse response of an ARMA model in its modes\n",
    "\n",
    "To do the task we will assume the user will give as an input the vectors of the coefficients defining an ARMA model. For example, defining below ` numerator = [1, -1] ` and ` denominator = [1, 4, 3] ` will implicitly mean defining the impulse response\n",
    "$$\n",
    "H(s) = \\frac{s - 1}{s^2 + 4 s + 3}\n",
    "$$\n",
    "and thus the ARMA model\n",
    "$$\n",
    "\\ddot{y} + 4 \\dot{y} + 3 y = \\dot{u} - u .\n",
    "$$\n",
    "The code we want to develop will thus decompose the corresponding impulse response associated to that $H(s)$ into its modes, and plot them separatedly."
   ]
  },
  {
   "cell_type": "code",
   "execution_count": null,
   "metadata": {},
   "outputs": [],
   "source": [
    "# import the necessary stuff\n",
    "import sympy as sp\n",
    "import numpy as np\n",
    "import matplotlib.pyplot as plt \n",
    "import control # see python-control.readthedocs.io\n",
    "from scipy.integrate import odeint"
   ]
  },
  {
   "cell_type": "code",
   "execution_count": 4,
   "metadata": {},
   "outputs": [],
   "source": [
    "# define the variables that we need for the task\n",
    "t = sp.symbols('t', real=True) # 'time'\n",
    "s = sp.symbols('s')            # 's' for the Laplace domain\n",
    "x = sp.symbols('x', real=True) # 'state'"
   ]
  },
  {
   "cell_type": "markdown",
   "metadata": {},
   "source": [
    "A first function we would like to implement first is the ZPP map, https://en.wikipedia.org/wiki/Pole%E2%80%93zero_plot. In this way we get exposed to the ` control.tf `, ` .pole() ` and ` .zero() ` functions: "
   ]
  },
  {
   "cell_type": "code",
   "execution_count": 5,
   "metadata": {},
   "outputs": [],
   "source": [
    "# plot the poles and zeros of a transfer function\n",
    "def plotPoleZeroPlot(numerator, denominator):\n",
    "    \n",
    "    transferFunction = control.tf(numerator, denominator)\n",
    "\n",
    "    # Get the poles and zeros\n",
    "    poles = transferFunction.pole()\n",
    "    zeros = transferFunction.zero()\n",
    "\n",
    "    # Find the re-im of the poles\n",
    "    a = [x.real for x in poles]\n",
    "    b = [x.imag for x in poles]\n",
    "\n",
    "    # Find the re-im of the zeros\n",
    "    c = [x.real for x in zeros]\n",
    "    d = [x.imag for x in zeros]\n",
    "\n",
    "    # Plot them and create a layout\n",
    "    plt.title(\"Zeros Poles Plot of the transfer function\")\n",
    "    plt.scatter(a,b, marker=\"x\")\n",
    "    plt.scatter(c,d)\n",
    "    plt.grid(True, which='both')\n",
    "    plt.xlabel(\"real part\")\n",
    "    plt.ylabel(\"imaginary part\")\n",
    "    plt.axhline(0)\n",
    "    plt.axvline(0)\n",
    "    plt.show()"
   ]
  },
  {
   "cell_type": "markdown",
   "metadata": {},
   "source": [
    "Then with other plots we can get exposed to even further functions from the ` control ` package:"
   ]
  },
  {
   "cell_type": "code",
   "execution_count": 6,
   "metadata": {},
   "outputs": [],
   "source": [
    "# Plot the impulse response\n",
    "def plotImpulseResponse(numerator, denominator):\n",
    "    \n",
    "    transferFunction = control.tf(numerator, denominator)\n",
    "    T, yout = control.impulse_response(transferFunction)\n",
    "    \n",
    "    plt.plot(T, yout)\n",
    "    plt.title(\"Impulse response of h(s)\")\n",
    "    plt.xlabel(\"Time\")\n",
    "    plt.ylabel(\"h(t)\")\n",
    "    plt.show()"
   ]
  },
  {
   "cell_type": "code",
   "execution_count": 7,
   "metadata": {},
   "outputs": [],
   "source": [
    "# Plot the step response \n",
    "def plotStepResponse(numerator, denominator):\n",
    "    \n",
    "    transferFunction = control.tf(numerator, denominator)\n",
    "    T, yout = control.step_response(transferFunction)\n",
    "    \n",
    "    plt.plot(T, yout)\n",
    "    plt.title(\"Step response of h(s)\")\n",
    "    plt.xlabel(\"Time\")\n",
    "    plt.ylabel(\"h(t)\")\n",
    "    plt.show()"
   ]
  },
  {
   "cell_type": "markdown",
   "metadata": {},
   "source": [
    "To do partial fraction decompositions we ladder ` sympy `. Thus we define an ad-hoc function to move to ` sympy ` from ` control ` objects:"
   ]
  },
  {
   "cell_type": "code",
   "execution_count": 13,
   "metadata": {},
   "outputs": [],
   "source": [
    "# Convert a control library representation to a sympy one\n",
    "def controlToSympy(num, den):\n",
    "    \n",
    "    # Create a sympy fraction\n",
    "    numSym = 0\n",
    "    denSym = 0\n",
    "    \n",
    "    for counter, coefficient in enumerate(reversed(num)):\n",
    "        numSym += coefficient*x**counter\n",
    "    \n",
    "    for counter, coefficient in enumerate(reversed(den)):\n",
    "        denSym += coefficient*x**counter\n",
    "    \n",
    "    return numSym/denSym\n"
   ]
  },
  {
   "cell_type": "markdown",
   "metadata": {},
   "source": [
    "This means we may use ` sympy.apart ` to do the wished partial fraction decomposition:"
   ]
  },
  {
   "cell_type": "code",
   "execution_count": 10,
   "metadata": {},
   "outputs": [],
   "source": [
    "# Extract each mode, ignore this\n",
    "def extractModes(num, den):\n",
    "\n",
    "    # Get the fraction\n",
    "    symFraction = controlToSympy(num, den)\n",
    "    \n",
    "    # Get the partial fraction decomposition\n",
    "    partialFracDecomped = apart(symFraction).as_ordered_terms()\n",
    "    \n",
    "    # The list of fractions\n",
    "    listOfFractions = []\n",
    "\n",
    "    # Decompose the fractions and add it to the list\n",
    "    for subFractions in partialFracDecomped:\n",
    "        # Decompose a fraction into numerator and denominator\n",
    "        numCont, denCont = fraction(subFractions)\n",
    "        # Extract the coefficients and convert to correct type\n",
    "        numPolynom = [int(e) for e in Poly(numCont, x).all_coeffs()]\n",
    "        denPolynom = [int(e) for e in Poly(denCont, x).all_coeffs()]\n",
    "        listOfFractions.append([numPolynom, denPolynom])\n",
    "\n",
    "    return listOfFractions\n"
   ]
  },
  {
   "cell_type": "markdown",
   "metadata": {},
   "source": [
    "We can finally sum up several functions in one that, laddering on the fact that each partial fraction can be thought as its own impulse response, extracts the individual modes from a given ARMA model:"
   ]
  },
  {
   "cell_type": "code",
   "execution_count": 11,
   "metadata": {},
   "outputs": [],
   "source": [
    "# Plot all the modes of the transfer function\n",
    "def plotModes(numerator, denominator):\n",
    "    \n",
    "    # Extract the modes of the transfer function\n",
    "    modes = extractModes(numerator, denominator)\n",
    "    \n",
    "    # Plot each mode independently\n",
    "    for mode in modes:\n",
    "        num,den = mode\n",
    "        transfer = control.tf(num,den)\n",
    "        T, yout = control.impulse_response(transfer)\n",
    "        plt.plot(T,yout)\n",
    "    \n",
    "    # Add some information to the plot\n",
    "    plt.title(\"decomposition of the impulse response in its elementary modes\")\n",
    "    plt.xlabel(\"Time\")\n",
    "    plt.ylabel(\"h(t)\")\n",
    "    plt.show()\n"
   ]
  },
  {
   "cell_type": "markdown",
   "metadata": {},
   "source": [
    "Let's do an example here:"
   ]
  },
  {
   "cell_type": "code",
   "execution_count": 14,
   "metadata": {},
   "outputs": [
    {
     "data": {
      "image/png": "[encoded data removed]",
      "text/plain": [
       "<Figure size 432x288 with 1 Axes>"
      ]
     },
     "metadata": {
      "needs_background": "light"
     },
     "output_type": "display_data"
    },
    {
     "data": {
      "image/png": "[encoded data removed]",
      "text/plain": [
       "<Figure size 432x288 with 1 Axes>"
      ]
     },
     "metadata": {
      "needs_background": "light"
     },
     "output_type": "display_data"
    },
    {
     "data": {
      "image/png": "[encoded data removed]",
      "text/plain": [
       "<Figure size 432x288 with 1 Axes>"
      ]
     },
     "metadata": {
      "needs_background": "light"
     },
     "output_type": "display_data"
    },
    {
     "data": {
      "image/png": "[encoded data removed]",
      "text/plain": [
       "<Figure size 432x288 with 1 Axes>"
      ]
     },
     "metadata": {
      "needs_background": "light"
     },
     "output_type": "display_data"
    }
   ],
   "source": [
    "# Define the transfer function\n",
    "#\n",
    "# example:\n",
    "#           s - 1             numerator   = [1, -1]\n",
    "# H = ----------------- =>    denominator = [1, 4, 3]\n",
    "#       s^2 + 4 s + 3\n",
    "#\n",
    "numerator = [1, -1]\n",
    "denominator = [1, 4, 3]\n",
    "\n",
    "# Plot the various things\n",
    "plotPoleZeroPlot(numerator, denominator)\n",
    "plotImpulseResponse(numerator, denominator)\n",
    "plotStepResponse(numerator, denominator)\n",
    "plotModes(numerator, denominator)"
   ]
  }
 ],
 "metadata": {
  "kernelspec": {
   "display_name": "Python 3 (ipykernel)",
   "language": "python",
   "name": "python3"
  },
  "language_info": {
   "codemirror_mode": {
    "name": "ipython",
    "version": 3
   },
   "file_extension": ".py",
   "mimetype": "text/x-python",
   "name": "python",
   "nbconvert_exporter": "python",
   "pygments_lexer": "ipython3",
   "version": "3.9.12"
  }
 },
 "nbformat": 4,
 "nbformat_minor": 4
}
