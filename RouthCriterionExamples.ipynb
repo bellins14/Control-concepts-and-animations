{
 "cells": [
  {
   "cell_type": "markdown",
   "id": "640ef63b",
   "metadata": {},
   "source": [
    "# Testing the Routh criterion in python\n",
    "\n",
    "I.e., using python to explore https://en.wikipedia.org/wiki/Routh%E2%80%93Hurwitz_stability_criterion.\n",
    "\n",
    "The code in this notebook is inspired by https://dynamics-and-control.readthedocs.io/en/latest/2_Control/2_Laplace_domain_analysis_of_control_systems/SymPy%20Routh%20Array.html.\n",
    "\n",
    "First of all, let's import the necessary packages:"
   ]
  },
  {
   "cell_type": "code",
   "execution_count": 1,
   "id": "78f51031",
   "metadata": {},
   "outputs": [],
   "source": [
    "import sympy as sp\n",
    "from tbcontrol.symbolic import routh\n",
    "\n",
    "# define also the variables that we need for the task\n",
    "s = sp.symbols('s')          # 's' for the Laplace domain"
   ]
  },
  {
   "cell_type": "markdown",
   "id": "2e29deb6",
   "metadata": {},
   "source": [
    "Now define a polynomial in a symbolic way:"
   ]
  },
  {
   "cell_type": "code",
   "execution_count": 2,
   "id": "45d063cb",
   "metadata": {},
   "outputs": [],
   "source": [
    "p = sp.Poly(  1 * s**5 + \\\n",
    "             10 * s**4 + \\\n",
    "              3 * s**3 + \\\n",
    "              2 * s**2 + \\\n",
    "              1 * s**1 + \\\n",
    "              5 * s**0,  s ) # this means a polynomial in s"
   ]
  },
  {
   "cell_type": "markdown",
   "id": "0e832b9f",
   "metadata": {},
   "source": [
    "Then we can play with building the Routh table, and inspect the results:"
   ]
  },
  {
   "cell_type": "code",
   "execution_count": 18,
   "id": "8903e0f9",
   "metadata": {},
   "outputs": [
    {
     "data": {
      "text/latex": [
       "$\\displaystyle \\left[\\begin{matrix}1 & 3 & 1\\\\10 & 2 & 5\\\\\\frac{14}{5} & \\frac{1}{2} & 0\\\\\\frac{3}{14} & 5 & 0\\\\- \\frac{389}{6} & 0 & 0\\\\5 & 0 & 0\\end{matrix}\\right]$"
      ],
      "text/plain": [
       "Matrix([\n",
       "[     1,   3, 1],\n",
       "[    10,   2, 5],\n",
       "[  14/5, 1/2, 0],\n",
       "[  3/14,   5, 0],\n",
       "[-389/6,   0, 0],\n",
       "[     5,   0, 0]])"
      ]
     },
     "execution_count": 18,
     "metadata": {},
     "output_type": "execute_result"
    }
   ],
   "source": [
    "routh( p )"
   ]
  },
  {
   "cell_type": "markdown",
   "id": "8c612a5e",
   "metadata": {},
   "source": [
    "We can also have situations where some of the parameters are actually symbolic:"
   ]
  },
  {
   "cell_type": "code",
   "execution_count": 31,
   "id": "0ef8a853",
   "metadata": {},
   "outputs": [
    {
     "data": {
      "text/latex": [
       "$\\displaystyle \\left[\\begin{matrix}1 & 3 & K\\\\2 & 1 & 0\\\\\\frac{5}{2} & K & 0\\\\1 - \\frac{4 K}{5} & 0 & 0\\\\K & 0 & 0\\end{matrix}\\right]$"
      ],
      "text/plain": [
       "Matrix([\n",
       "[        1, 3, K],\n",
       "[        2, 1, 0],\n",
       "[      5/2, K, 0],\n",
       "[1 - 4*K/5, 0, 0],\n",
       "[        K, 0, 0]])"
      ]
     },
     "execution_count": 31,
     "metadata": {},
     "output_type": "execute_result"
    }
   ],
   "source": [
    "# create a symbol\n",
    "K = sp.symbols('K')\n",
    "\n",
    "# create the polynomial\n",
    "p = sp.Poly(  0 * s**5 + \\\n",
    "              1 * s**4 + \\\n",
    "              2 * s**3 + \\\n",
    "              3 * s**2 + \\\n",
    "              1 * s**1 + \\\n",
    "              K * s**0,  s ) # this means a polynomial in s\n",
    "\n",
    "# compute the Routh table\n",
    "R = routh( p )\n",
    "\n",
    "# display it\n",
    "R"
   ]
  },
  {
   "cell_type": "markdown",
   "id": "2cb9b605",
   "metadata": {},
   "source": [
    "We know that to impose stability, the leftmost column of this matrix must have entries with all the same signs. We can then easily extract such elements from the matrix, create a system from them, and ask python to solve the corresponding system in that variable for us:"
   ]
  },
  {
   "cell_type": "code",
   "execution_count": 32,
   "id": "c7dda86d",
   "metadata": {},
   "outputs": [
    {
     "data": {
      "text/latex": [
       "$\\displaystyle 0 < K \\wedge K < \\frac{5}{4}$"
      ],
      "text/plain": [
       "(0 < K) & (K < 5/4)"
      ]
     },
     "execution_count": 32,
     "metadata": {},
     "output_type": "execute_result"
    }
   ],
   "source": [
    "# create the system\n",
    "system = [e > 0 for e in R[:, 0]]\n",
    "\n",
    "# solve it\n",
    "sp.solve(system, K)"
   ]
  }
 ],
 "metadata": {
  "kernelspec": {
   "display_name": "Python 3 (ipykernel)",
   "language": "python",
   "name": "python3"
  },
  "language_info": {
   "codemirror_mode": {
    "name": "ipython",
    "version": 3
   },
   "file_extension": ".py",
   "mimetype": "text/x-python",
   "name": "python",
   "nbconvert_exporter": "python",
   "pygments_lexer": "ipython3",
   "version": "3.9.12"
  }
 },
 "nbformat": 4,
 "nbformat_minor": 5
}
