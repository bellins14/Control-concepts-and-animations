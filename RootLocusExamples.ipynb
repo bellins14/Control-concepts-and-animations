{
 "cells": [
  {
   "cell_type": "code",
   "execution_count": null,
   "id": "313adf28",
   "metadata": {},
   "outputs": [],
   "source": [
    "https://dynamics-and-control.readthedocs.io/en/latest/2_Control/2_Laplace_domain_analysis_of_control_systems/Root%20locus%20diagrams.html?highlight=root%20locus"
   ]
  }
 ],
 "metadata": {
  "kernelspec": {
   "display_name": "Python 3 (ipykernel)",
   "language": "python",
   "name": "python3"
  },
  "language_info": {
   "codemirror_mode": {
    "name": "ipython",
    "version": 3
   },
   "file_extension": ".py",
   "mimetype": "text/x-python",
   "name": "python",
   "nbconvert_exporter": "python",
   "pygments_lexer": "ipython3",
   "version": "3.9.12"
  }
 },
 "nbformat": 4,
 "nbformat_minor": 5
}
