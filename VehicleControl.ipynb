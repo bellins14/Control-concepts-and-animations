{
 "cells": [
  {
   "cell_type": "code",
   "execution_count": 1,
   "metadata": {},
   "outputs": [
    {
     "data": {
      "application/javascript": [
       "MathJax.Hub.Config({TeX: { equationNumbers: { autoNumber: \"AMS\" } }});\n"
      ],
      "text/plain": [
       "<IPython.core.display.Javascript object>"
      ]
     },
     "metadata": {},
     "output_type": "display_data"
    }
   ],
   "source": [
    "%%javascript to enable numbering of the equations below -- ignore this cell\n",
    "MathJax.Hub.Config({TeX: { equationNumbers: { autoNumber: \"AMS\" } }});"
   ]
  },
  {
   "cell_type": "markdown",
   "metadata": {},
   "source": [
    "# Vehicle control - problem definition\n",
    "\n",
    "![graphical representation of the problem](./Images/vehicle-model.png \"vehicle control - problem definition\")\n",
    "\n",
    "This notebook presents the problem of controlling the speed of a car travelling in the Alps. The notebook will go through two different types of automatic controllers, making the reader comparing them and thinking at why they are different.\n",
    "\n",
    "#### Notation:\n",
    "\n",
    "- $t$ = time\n",
    "\n",
    "- $u(t)$ = force produced by the engine and transmitted to the road through the wheels at time $t$\n",
    "- $x(t)$ = position of the car at time $t$\n",
    "- $\\dot{x}(t)$ = velocity of the car at time $t$\n",
    "- $\\ddot{x}(t)$ = acceleration of the car at time $t$\n",
    "\n",
    "- $d(x)$ = slope of the street at position $x$ (in radiants)\n",
    "- $m$ = mass of the vehicle (constant)\n",
    "- $b$ = viscous friction coefficient (constant)\n",
    "- $g$ = gravitational acceleration (constant)\n",
    "\n",
    "#### Assumptions:\n",
    "\n",
    "- the vehicle is modelled as a point mass subject to gravity and friction effects\n",
    "- $u$ is the controllable force produced by its engine\n",
    "- $d$ is the inclination of the road (and it is a latent variable)\n",
    "- the bigger $|d|$, the bigger the effects of gravity on the motion of the vehicle\n",
    "- the bigger the velocity of the vehicle, the bigger the frictions will be\n",
    "\n",
    "#### The problem:\n",
    "\n",
    "design $u(t)$ so that the velocity of the vehicle follows a certain given reference signal $r(t)$ independently of the road profile $d(x)$ and the friction affecting the vehicle."
   ]
  },
  {
   "cell_type": "markdown",
   "metadata": {},
   "source": [
    "## Simulating the system by modelling its dynamics\n",
    "\n",
    "Using classical Newtonian mechanics considerations leads to\n",
    "\n",
    "\\begin{equation}\n",
    "    m \\ddot{x}(t) = - b \\dot{x}(t) + u(t) - m g \\sin \\Big( d \\big( x(t) \\big) \\Big) .\n",
    "\\end{equation}\n",
    "\n",
    "One can then simulate the system as below."
   ]
  },
  {
   "cell_type": "code",
   "execution_count": 2,
   "metadata": {},
   "outputs": [
    {
     "data": {
      "text/plain": [
       "<Figure size 432x288 with 0 Axes>"
      ]
     },
     "metadata": {},
     "output_type": "display_data"
    },
    {
     "data": {
      "image/png": "[encoded data removed]",
      "text/plain": [
       "<Figure size 360x216 with 1 Axes>"
      ]
     },
     "metadata": {
      "needs_background": "light"
     },
     "output_type": "display_data"
    },
    {
     "data": {
      "image/png": "[encoded data removed]",
      "text/plain": [
       "<Figure size 360x216 with 1 Axes>"
      ]
     },
     "metadata": {
      "needs_background": "light"
     },
     "output_type": "display_data"
    }
   ],
   "source": [
    "# load the necessary packages\n",
    "import numpy as np\n",
    "from scipy.integrate import odeint\n",
    "import matplotlib.pyplot as plt\n",
    "\n",
    "# model parameters\n",
    "g = 9.8\n",
    "b = 0.1\n",
    "m = 0.4\n",
    "\n",
    "# define the function that gets the vector X of states x_i, and\n",
    "# a vector returns the vector of derivatives of the states dx_i / dt\n",
    "#\n",
    "# Inputs:\n",
    "# - X, as a row vector, with each of its components\n",
    "#   one of the specific states of the system\n",
    "# - t, a scalar indicating time\n",
    "# \n",
    "# Output:\n",
    "# - a row vector of the same dimension of X\n",
    "#\n",
    "# Note that d(.) and u(.) are also functions, but they are defined outside\n",
    "# of this function. This means that one does not need to pass u and d as\n",
    "# parameters in the signature of the function\n",
    "# \n",
    "# see also https://apmonitor.com/pdc/index.php/Main/SolveDifferentialEquations\n",
    "# for understanding more about this code\n",
    "#\n",
    "def myModel(X, t):\n",
    "    #\n",
    "    # to aid readability of the code, get the individual variables\n",
    "    x0 = X[0] # this is the position x(t)\n",
    "    x1 = X[1] # this is \\dot{x}(t)\n",
    "    #\n",
    "    # compute the individual derivatives as in the ODE above\n",
    "    #\n",
    "    # this says that the derivative of the position is the velocity\n",
    "    dx0dt  = x1\n",
    "    #\n",
    "    # this says that the acceleration is given by the equations in the slides\n",
    "    dx1dt  = - (b / m) * x1 + (1 / m) * u(t) - g * np.sin(d(t))\n",
    "    #\n",
    "    # NOTE: formally the following version is more correct; however this\n",
    "    # would make the system nonlinear\n",
    "#   dx1dt  = - (b / m) * x1 + (1 / m) * u(t) - g * np.sin(d(x0))\n",
    "    #\n",
    "    return [ dx0dt, dx1dt ]\n",
    "\n",
    "# define the inclination of the road as a function of an independent variable\n",
    "def d(y):\n",
    "    return 0.01*np.cos( 0.01 * y )\n",
    "\n",
    "# define the profile of the force produced by the engine at time t\n",
    "def u(t):\n",
    "    return 3.2\n",
    "\n",
    "# define the initial condition (note: as a row vector)\n",
    "X0 = [ 0, 10 ]\n",
    "\n",
    "# define the time points where the solution to the ODE is computed\n",
    "n    = 1000\n",
    "tmax = 1000 # we do not define its measurement unit, thus it is implicit\n",
    "T    = np.linspace(0, tmax, n)\n",
    "\n",
    "# solve the ODE. This will create a *matrix* X where each column\n",
    "# is a specific variable (in this case the first column will be\n",
    "# positions, the second velocities). Each row corresponds at the\n",
    "# state of the system at time T[row_index]\n",
    "X = odeint( myModel, X0, T )\n",
    "\n",
    "# plot the trajectory of the system\n",
    "# create a figure with two subfigures\n",
    "plt.figure()\n",
    "fig_pos, ax_pos = plt.subplots(figsize=(5, 3))\n",
    "fig_vel, ax_vel = plt.subplots(figsize=(5, 3))\n",
    "#\n",
    "ax_pos.plot(T, X[:,0], label='position', linewidth=1)\n",
    "ax_vel.plot(T, X[:,1], label='velocity', linewidth=1)\n",
    "#\n",
    "ax_pos.grid()\n",
    "ax_pos.legend(loc = 'upper right')\n",
    "ax_pos.set_xlabel('time')\n",
    "ax_vel.grid()\n",
    "ax_vel.legend(loc = 'upper right')\n",
    "ax_vel.set_xlabel('time')\n",
    "#\n",
    "plt.show()\n"
   ]
  },
  {
   "cell_type": "markdown",
   "metadata": {},
   "source": [
    "## Open loop controller\n",
    "\n",
    "#### Objective:\n",
    "\n",
    "Try to the velocity $y(t) = \\dot{x}(t)$ be equal to a reference trajectory $r(t)$, independently of $d(x)$ (thus a constant velocity independently of where one is along the road).\n",
    "\n",
    "\n",
    "#### Linearizing the system: \n",
    "\n",
    "Assuming $d(x)$ small for every $x$, then $\\sin \\big( d(x) \\big) \\approx d(x)$. Moreover since we are interested in $y(t)$, the model becomes\n",
    "\n",
    "\\begin{equation}\n",
    "    m \\dot{y}(t) + b y(t) = u(t) - m g d \\big( x(t) \\big) .\n",
    "\\end{equation}\n",
    "\n",
    "\n",
    "#### First attempt: \n",
    "\n",
    "Ideas:\n",
    "- design $u(t)$ so that $y(t) \\equiv r(t)$ for every $t$,\n",
    "- since we do not measure $d \\big( x(t) \\big)$, let's ignore it in the design of $u(t)$.\n",
    "\n",
    "Thus we put\n",
    "\n",
    "\\begin{equation}\n",
    "    u(t) = m \\dot{r}(t) + b r(t) .\n",
    "\\end{equation}\n",
    "\n",
    "This though implies\n",
    "\n",
    "\\begin{equation}\n",
    "    m \\dot{y}(t) + b y(t) = m \\dot{r}(t) + b r(t) - m g d \\big( x(t) \\big)\n",
    "\\end{equation}\n",
    "\n",
    "and thus, if we define the error as $e(t) := r(t) - y(t)$, it follows that\n",
    "\n",
    "\\begin{equation}\n",
    "    m \\dot{e}(t) + b e(t) = - m g d \\big( x(t) \\big)\n",
    "\\end{equation}\n",
    "\n",
    "or, in other words (and as expected), the error depends on the profile of the road. Simulating the system leads to the plots below."
   ]
  },
  {
   "cell_type": "code",
   "execution_count": 3,
   "metadata": {},
   "outputs": [
    {
     "data": {
      "text/plain": [
       "<Figure size 432x288 with 0 Axes>"
      ]
     },
     "metadata": {},
     "output_type": "display_data"
    },
    {
     "data": {
      "image/png": "[encoded data removed]",
      "text/plain": [
       "<Figure size 360x216 with 1 Axes>"
      ]
     },
     "metadata": {
      "needs_background": "light"
     },
     "output_type": "display_data"
    },
    {
     "data": {
      "image/png": "[encoded data removed]",
      "text/plain": [
       "<Figure size 360x216 with 1 Axes>"
      ]
     },
     "metadata": {
      "needs_background": "light"
     },
     "output_type": "display_data"
    },
    {
     "data": {
      "image/png": "[encoded data removed]",
      "text/plain": [
       "<Figure size 360x216 with 1 Axes>"
      ]
     },
     "metadata": {
      "needs_background": "light"
     },
     "output_type": "display_data"
    }
   ],
   "source": [
    "# define the reference signal\n",
    "def r(t):\n",
    "    return 3 # + np.sin( 0.1 * t )\n",
    "    # if you want to try other signals, you may try default functions like\n",
    "    # np.sin( c * t )\n",
    "    # and combining with \"if / then\" statements, e.g.\n",
    "    # if t < 0:\n",
    "    #   return 2\n",
    "    # else:\n",
    "    #   return 3\n",
    "\n",
    "# define the controller\n",
    "def u(t):\n",
    "    #\n",
    "    # find the derivative numerically\n",
    "    eps = 0.00000000001\n",
    "    rdot = ( r(t + eps) - r(t - eps) ) / (2 * eps)\n",
    "    #\n",
    "    return m * rdot + b * r(t)\n",
    "\n",
    "# define the initial condition (note: as a row vector)\n",
    "X0 = [ 0, r(0) ]\n",
    "\n",
    "# solve the ODE\n",
    "X = odeint( myModel, X0, T )\n",
    "\n",
    "# compute the error and actuation\n",
    "ee = np.zeros( n )\n",
    "uu = np.zeros( n )\n",
    "for i, t in enumerate( T ):\n",
    "    ee[i] = X[i,1] - r(t) # remember that X computed in this way is [pos, vel]\n",
    "    uu[i] = u(t)\n",
    "\n",
    "# plot the trajectory of the system\n",
    "plt.figure()\n",
    "fig_vel, ax_vel = plt.subplots(figsize=(5, 3))\n",
    "fig_err, ax_err = plt.subplots(figsize=(5, 3))\n",
    "fig_act, ax_act = plt.subplots(figsize=(5, 3))\n",
    "#\n",
    "ax_vel.plot(T, X[:,1], label='velocity',  linewidth=1)\n",
    "ax_err.plot(T, ee,     label='error',     linewidth=1)\n",
    "ax_act.plot(T, uu,     label='actuation', linewidth=1)\n",
    "#\n",
    "ax_vel.grid()\n",
    "ax_vel.legend(loc = 'upper right')\n",
    "ax_vel.set_xlabel('time')\n",
    "ax_err.grid()\n",
    "ax_err.legend(loc = 'upper right')\n",
    "ax_err.set_xlabel('time')\n",
    "ax_act.grid()\n",
    "ax_act.legend(loc = 'upper right')\n",
    "ax_act.set_xlabel('time')\n",
    "#\n",
    "plt.show()\n"
   ]
  },
  {
   "cell_type": "markdown",
   "metadata": {},
   "source": [
    "## Assignments\n",
    "\n",
    "A1. test what happens if $d(x) = 0$, create the plots, and comment what you get plus why you get what you get.\n",
    "\n",
    "A2. test what happens if $d(x) \\neq 0$, create the plots, and comment what you get plus why you get what you get.\n",
    "\n",
    "A3. say why the line of code\n",
    "\n",
    "`rdot = ( r(t + eps) - r(t - eps) ) / (2 * eps)`\n",
    "\n",
    "makes this specific controller not implementable in real life."
   ]
  },
  {
   "cell_type": "markdown",
   "metadata": {},
   "source": [
    "## Closed loop control\n",
    "\n",
    "With the aim of accounting for the error, we instead now try a different controller for which the engine torque is a function of the error, i.e.,\n",
    "\n",
    "\\begin{equation}\n",
    "    u(t) = K e(t) = K \\big( r(t) - y(t) \\big)\n",
    "\\end{equation}\n",
    "\n",
    "with $K$ a design parameter whose physical intuition may be summarized in \"the higher $K$ is, the more the engine will react to an error\"."
   ]
  },
  {
   "cell_type": "code",
   "execution_count": 7,
   "metadata": {},
   "outputs": [
    {
     "data": {
      "text/plain": [
       "<Figure size 432x288 with 0 Axes>"
      ]
     },
     "metadata": {},
     "output_type": "display_data"
    },
    {
     "data": {
      "image/png": "[encoded data removed]",
      "text/plain": [
       "<Figure size 360x216 with 1 Axes>"
      ]
     },
     "metadata": {
      "needs_background": "light"
     },
     "output_type": "display_data"
    },
    {
     "data": {
      "image/png": "[encoded data removed]",
      "text/plain": [
       "<Figure size 360x216 with 1 Axes>"
      ]
     },
     "metadata": {
      "needs_background": "light"
     },
     "output_type": "display_data"
    },
    {
     "data": {
      "image/png": "[encoded data removed]",
      "text/plain": [
       "<Figure size 360x216 with 1 Axes>"
      ]
     },
     "metadata": {
      "needs_background": "light"
     },
     "output_type": "display_data"
    }
   ],
   "source": [
    "# define the reference signal\n",
    "def r(t):\n",
    "    return 3\n",
    "    # if you want to try other signals, you may try default functions like\n",
    "    # np.sin( c * t )\n",
    "    # and combining with \"if / then\" statements, e.g.\n",
    "    # if t < 0:\n",
    "    #   return 2\n",
    "    # else:\n",
    "    #   return 3\n",
    "\n",
    "# define the controller\n",
    "def u(t, x1):\n",
    "    #\n",
    "    # define the proportional gain\n",
    "    K = 500000000\n",
    "    #\n",
    "    return K * ( r(t) - x1 )\n",
    "\n",
    "# redefine the dynamics (necessary because the signature of u has changed)\n",
    "def myModel(X, t):\n",
    "    #\n",
    "    # to aid readability of the code, get the individual variables\n",
    "    x0 = X[0] # this is the position x(t)\n",
    "    x1 = X[1] # this is \\dot{x}(t)\n",
    "    #\n",
    "    # compute the individual derivatives as in the ODE above\n",
    "    dx0dt  = x1\n",
    "    dx1dt  = - (b / m) * x1 + (1 / m) * u(t, x1) - g * np.sin(d(t))\n",
    "#   dx1dt  = - (b / m) * x1 + (1 / m) * u(t, x1) - g * np.sin(d(x0))\n",
    "    #\n",
    "    return [ dx0dt, dx1dt ]\n",
    "\n",
    "# define the initial condition (note: as a row vector)\n",
    "X0 = [ 0, r(0) ]\n",
    "\n",
    "# solve the ODE\n",
    "X = odeint( myModel, X0, T )\n",
    "\n",
    "# compute the error and actuation signals\n",
    "ee = np.zeros( n )\n",
    "uu = np.zeros( n )\n",
    "for i, t in enumerate( T ):\n",
    "    ee[i] = X[i,1] - r(t) # remember that X computed in this way is [pos, vel]\n",
    "    uu[i] = u(t, X[i,1])\n",
    "\n",
    "# plot the trajectory of the system\n",
    "plt.figure()\n",
    "fig_vel, ax_vel = plt.subplots(figsize=(5, 3))\n",
    "fig_err, ax_err = plt.subplots(figsize=(5, 3))\n",
    "fig_act, ax_act = plt.subplots(figsize=(5, 3))\n",
    "#\n",
    "ax_vel.plot(T, X[:,1], label='velocity',  linewidth=1)\n",
    "ax_err.plot(T, ee,     label='error',     linewidth=1)\n",
    "ax_act.plot(T, uu,     label='actuation', linewidth=1)\n",
    "#\n",
    "ax_vel.grid()\n",
    "ax_vel.legend(loc = 'upper right')\n",
    "ax_vel.set_xlabel('time')\n",
    "ax_err.grid()\n",
    "ax_err.legend(loc = 'upper right')\n",
    "ax_err.set_xlabel('time')\n",
    "ax_act.grid()\n",
    "ax_act.legend(loc = 'upper right')\n",
    "ax_act.set_xlabel('time')\n",
    "#\n",
    "plt.show()\n"
   ]
  },
  {
   "cell_type": "markdown",
   "metadata": {},
   "source": [
    "## Assignments\n",
    "\n",
    "A4. compare the performance of the closed loop controller against the ones of the open loop controller for a $d(x) \\neq 0$ that was making the open loop controller perform badly. Say what is happening, and why.\n",
    "\n",
    "A5. Now try to change the gain $K$, and say how the error and the actuation signals qualitatively change as one increases or decreases this gain."
   ]
  },
  {
   "cell_type": "markdown",
   "metadata": {},
   "source": [
    "# The purpose of this course, in a nutshell\n",
    "\n",
    "**Understand why the closed loop controller above performs better than the open loop one, and understand how to design even better controllers than the one you just implemented.**"
   ]
  }
 ],
 "metadata": {
  "kernelspec": {
   "display_name": "Python 3 (ipykernel)",
   "language": "python",
   "name": "python3"
  },
  "language_info": {
   "codemirror_mode": {
    "name": "ipython",
    "version": 3
   },
   "file_extension": ".py",
   "mimetype": "text/x-python",
   "name": "python",
   "nbconvert_exporter": "python",
   "pygments_lexer": "ipython3",
   "version": "3.9.12"
  }
 },
 "nbformat": 4,
 "nbformat_minor": 4
}
