{
 "cells": [
  {
   "cell_type": "markdown",
   "metadata": {},
   "source": [
    "## a PID control for an oven using sympy\n",
    "\n",
    "We consider an oven whose simplified uncontrolled dynamics can be described by means of\n",
    "$$\n",
    "\\dot{y}(t) = -k \\big( y(t) - a(t) \\big) + u(t)\n",
    "$$\n",
    "(i.e., a Newton cooling ODE) where\n",
    "* $k$ is the cooling constant\n",
    "* $a(t)$ is the ambient temperature\n",
    "* $u(t)$ is the control action.\n",
    "\n",
    "The goal is to design and test a PID controller, i.e., a controller whose structure is\n",
    "$$\n",
    "u = K_p e + K_i \\int e + K_d \\dot{e}\n",
    "$$\n",
    "where $e(t)$ is the error defined by $y(t) - r(t)$, with $r(t)$ eventually the reference temperature that the oven should follow - a signal that is assumed having been defined by the user a priori."
   ]
  },
  {
   "cell_type": "code",
   "execution_count": 1,
   "metadata": {},
   "outputs": [],
   "source": [
    "# import the necessary packages\n",
    "import sympy as sp\n",
    "import numpy as np\n",
    "import matplotlib.pyplot as plt"
   ]
  },
  {
   "cell_type": "code",
   "execution_count": 7,
   "metadata": {},
   "outputs": [],
   "source": [
    "# define the various signals and variables that identify the problem\n",
    "t  = sp.symbols('t', real=True) # 'time'\n",
    "s  = sp.symbols('s')            # 's' for the Laplace domain\n",
    "r  = 3*sp.Heaviside(t - 20)     # reference signal (0 for t<20, 3 for t>=20)\n",
    "y0 = 5                          # initial condition on the temperature of the oven\n",
    "k  = 10                         # heat transfer coefficient defining the ODE"
   ]
  },
  {
   "cell_type": "code",
   "execution_count": 4,
   "metadata": {},
   "outputs": [
    {
     "name": "stdout",
     "output_type": "stream",
     "text": [
      "3⋅θ(t - 20)\n"
     ]
    },
    {
     "data": {
      "image/png": "[encoded data removed]",
      "text/plain": [
       "<Figure size 432x288 with 1 Axes>"
      ]
     },
     "metadata": {
      "needs_background": "light"
     },
     "output_type": "display_data"
    }
   ],
   "source": [
    "# just in case, plot the reference signal\n",
    "sp.pprint(r)\n",
    "\n",
    "# 'lambdify' the symbolic function\n",
    "lambdified_r = sp.lambdify( t, r )\n",
    "lambdified_t = np.linspace( 0, 100, 300)\n",
    "\n",
    "# plot it\n",
    "plt.plot(lambdified_t, lambdified_r(lambdified_t))\n",
    "plt.title('reference signal')\n",
    "plt.xlabel('time')\n",
    "plt.ylabel('temperature')\n",
    "plt.grid(True)"
   ]
  },
  {
   "cell_type": "code",
   "execution_count": 27,
   "metadata": {},
   "outputs": [],
   "source": [
    "# choose the control gains for the PID controller\n",
    "Kp = 10\n",
    "Ki = 4/10\n",
    "Kd = 0"
   ]
  },
  {
   "cell_type": "code",
   "execution_count": 28,
   "metadata": {},
   "outputs": [
    {
     "name": "stdout",
     "output_type": "stream",
     "text": [
      "  1   \n",
      "──────\n",
      "s + 10\n",
      "     0.4\n",
      "10 + ───\n",
      "      s \n",
      "       10⋅s + 0.4      \n",
      "───────────────────────\n",
      "s⋅(s + 10) + 10⋅s + 0.4\n"
     ]
    }
   ],
   "source": [
    "# define the transfer functions of the plant G(s) and of the controller C(s)\n",
    "G = 1/(s+k)\n",
    "C = Kp + Ki/s + Kd*s\n",
    "\n",
    "# write then the closed-loop transfer function\n",
    "W = (G*C/(1+G*C)).simplify()\n",
    "\n",
    "# print then all the various transfer functions\n",
    "sp.pprint(G)\n",
    "sp.pprint(C)\n",
    "sp.pprint(W)"
   ]
  },
  {
   "cell_type": "code",
   "execution_count": 29,
   "metadata": {},
   "outputs": [
    {
     "name": "stdout",
     "output_type": "stream",
     "text": [
      "   -20⋅s\n",
      "3⋅ℯ     \n",
      "────────\n",
      "   s    \n",
      "                  -20⋅s    \n",
      "    (30⋅s + 1.2)⋅ℯ         \n",
      "───────────────────────────\n",
      "s⋅(s⋅(s + 10) + 10⋅s + 0.4)\n"
     ]
    }
   ],
   "source": [
    "# compute the forced response by means of Laplace transforms\n",
    "\n",
    "# Laplace the reference\n",
    "# note: the \"noconds=True\" makes us get only the transform as an output\n",
    "R = sp.laplace_transform(r, t, s, noconds=True)\n",
    "\n",
    "# compute the forced response in the Laplace domain\n",
    "Y = (R * W).simplify()\n",
    "\n",
    "# print the outputs\n",
    "sp.pprint(R)\n",
    "sp.pprint(Y)"
   ]
  },
  {
   "cell_type": "code",
   "execution_count": 30,
   "metadata": {},
   "outputs": [
    {
     "name": "stderr",
     "output_type": "stream",
     "text": [
      "<lambdifygenerated-5>:2: RuntimeWarning: overflow encountered in exp\n",
      "  return 1.0*(-5.24797988178263e+173*exp(0.0200200401002808*t) - 2.23863411571975*exp(19.9799799598997*t) + 3.00000000000001*exp(20.0*t))*exp(-20.0*t)*select([less(t, 20),equal(t, 20),greater(t, 20)], [0,1/2,1], default=nan)\n",
      "<lambdifygenerated-5>:2: RuntimeWarning: overflow encountered in multiply\n",
      "  return 1.0*(-5.24797988178263e+173*exp(0.0200200401002808*t) - 2.23863411571975*exp(19.9799799598997*t) + 3.00000000000001*exp(20.0*t))*exp(-20.0*t)*select([less(t, 20),equal(t, 20),greater(t, 20)], [0,1/2,1], default=nan)\n",
      "<lambdifygenerated-5>:2: RuntimeWarning: invalid value encountered in add\n",
      "  return 1.0*(-5.24797988178263e+173*exp(0.0200200401002808*t) - 2.23863411571975*exp(19.9799799598997*t) + 3.00000000000001*exp(20.0*t))*exp(-20.0*t)*select([less(t, 20),equal(t, 20),greater(t, 20)], [0,1/2,1], default=nan)\n"
     ]
    },
    {
     "data": {
      "image/png": "[encoded data removed]",
      "text/plain": [
       "<Figure size 432x288 with 1 Axes>"
      ]
     },
     "metadata": {
      "needs_background": "light"
     },
     "output_type": "display_data"
    }
   ],
   "source": [
    "# transform the forced response back in the time domain\n",
    "y_for = sp.inverse_laplace_transform(Y, s, t)\n",
    "\n",
    "# 'lambdify' the symbolic function\n",
    "lambdified_y = sp.lambdify( t, y_for )\n",
    "lambdified_t = np.linspace( 0, 100, 1000)\n",
    "\n",
    "# plot it\n",
    "plt.plot(lambdified_t, lambdified_y(lambdified_t))\n",
    "plt.title('forced response')\n",
    "plt.xlabel('time')\n",
    "plt.ylabel('temperature')\n",
    "plt.grid(True)"
   ]
  }
 ],
 "metadata": {
  "kernelspec": {
   "display_name": "Python 3 (ipykernel)",
   "language": "python",
   "name": "python3"
  },
  "language_info": {
   "codemirror_mode": {
    "name": "ipython",
    "version": 3
   },
   "file_extension": ".py",
   "mimetype": "text/x-python",
   "name": "python",
   "nbconvert_exporter": "python",
   "pygments_lexer": "ipython3",
   "version": "3.9.12"
  }
 },
 "nbformat": 4,
 "nbformat_minor": 4
}
