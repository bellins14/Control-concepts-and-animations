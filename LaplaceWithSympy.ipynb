{
 "cells": [
  {
   "cell_type": "markdown",
   "metadata": {},
   "source": [
    "## how to do Laplace transforms and inverse transforms in Sympy"
   ]
  },
  {
   "cell_type": "code",
   "execution_count": 2,
   "metadata": {},
   "outputs": [],
   "source": [
    "# import the necessary packages\n",
    "import sympy as sp\n",
    "import numpy as np\n",
    "import matplotlib.pyplot as plt"
   ]
  },
  {
   "cell_type": "code",
   "execution_count": 15,
   "metadata": {},
   "outputs": [
    {
     "name": "stdout",
     "output_type": "stream",
     "text": [
      "  1  \n",
      "─────\n",
      "s + 2\n"
     ]
    }
   ],
   "source": [
    "# define the variables that we need for the task\n",
    "t  = sp.symbols('t', real=True) # 'time'\n",
    "s  = sp.symbols('s')            # 's' for the Laplace domain\n",
    "\n",
    "# to compute the Laplace transform of a signal f(t) we execute\n",
    "#     \"laplace(f(t), t, s)\"\n",
    "# thus:\n",
    "# - the second argument \"t\" indicates the independent variable in the original signal\n",
    "# - the third argument \"s\" indicates the independent variable in the transformed signal\n",
    "#\n",
    "# the \"noconds=True\" makes us get only the transform as an output\n",
    "F = sp.laplace_transform(sp.exp(-2*t), t, s, noconds=True)\n",
    "\n",
    "# display the result\n",
    "sp.pprint(F)"
   ]
  },
  {
   "cell_type": "code",
   "execution_count": 17,
   "metadata": {},
   "outputs": [
    {
     "name": "stdout",
     "output_type": "stream",
     "text": [
      " -4⋅t     \n",
      "ℯ    ⋅θ(t)\n"
     ]
    }
   ],
   "source": [
    "# test an inverse Laplace transform\n",
    "# note how s and t invert positions wrt \"laplace_transform\"\n",
    "f = sp.inverse_laplace_transform(1 / (s + 4), s, t)\n",
    "\n",
    "# display the result\n",
    "sp.pprint(f)"
   ]
  },
  {
   "cell_type": "code",
   "execution_count": 26,
   "metadata": {},
   "outputs": [
    {
     "name": "stdout",
     "output_type": "stream",
     "text": [
      "⎡       -σ⋅t     -σ⋅t   2  -σ⋅t                           -σ⋅t   -σ⋅t         \n",
      "⎣1, t, ℯ    , t⋅ℯ    , t ⋅ℯ    , sin(ω⋅t), cos(ω⋅t), 1 - ℯ    , ℯ    ⋅sin(ω⋅t)\n",
      "\n",
      "   -σ⋅t         ⎤\n",
      ", ℯ    ⋅cos(ω⋅t)⎦\n",
      "⎡1  1     1       1         2         ω        s         σ            ω       \n",
      "⎢─, ──, ─────, ────────, ────────, ───────, ───────, ─────────, ─────────────,\n",
      "⎢s   2  s + σ         2         3   2    2   2    2  s⋅(s + σ)   2          2 \n",
      "⎣   s          (s + σ)   (s + σ)   ω  + s   ω  + s              ω  + (s + σ)  \n",
      "\n",
      "     s + σ    ⎤\n",
      " ─────────────⎥\n",
      "  2          2⎥\n",
      " ω  + (s + σ) ⎦\n",
      "   1    \n",
      "────────\n",
      "       3\n",
      "(s + σ) \n"
     ]
    }
   ],
   "source": [
    "# create the standard table of transforms\n",
    "\n",
    "# first add a couple of variables we need to define the standard signals\n",
    "sigma, omega = sp.symbols('sigma omega', real=True)\n",
    "\n",
    "# then make a list of standard functions\n",
    "fs = [   1,\n",
    "         t,\n",
    "         sp.exp(-sigma*t),\n",
    "         t*sp.exp(-sigma*t),\n",
    "         t**2*sp.exp(-sigma*t),\n",
    "         sp.sin(omega*t),\n",
    "         sp.cos(omega*t),\n",
    "         1 - sp.exp(-sigma*t),\n",
    "         sp.exp(-sigma*t)*sp.sin(omega*t),\n",
    "         sp.exp(-sigma*t)*sp.cos(omega*t),\n",
    "         ]\n",
    "\n",
    "# then transform them\n",
    "Fs = [sp.laplace_transform(f, t, s, noconds=True) for f in fs]\n",
    "\n",
    "# display everything\n",
    "sp.pprint(fs)\n",
    "sp.pprint(Fs)"
   ]
  },
  {
   "cell_type": "code",
   "execution_count": 25,
   "metadata": {},
   "outputs": [
    {
     "data": {
      "text/html": [
       "<div>\n",
       "<style scoped>\n",
       "    .dataframe tbody tr th:only-of-type {\n",
       "        vertical-align: middle;\n",
       "    }\n",
       "\n",
       "    .dataframe tbody tr th {\n",
       "        vertical-align: top;\n",
       "    }\n",
       "\n",
       "    .dataframe thead th {\n",
       "        text-align: right;\n",
       "    }\n",
       "</style>\n",
       "<table border=\"1\" class=\"dataframe\">\n",
       "  <thead>\n",
       "    <tr style=\"text-align: right;\">\n",
       "      <th></th>\n",
       "      <th>0</th>\n",
       "      <th>1</th>\n",
       "    </tr>\n",
       "  </thead>\n",
       "  <tbody>\n",
       "    <tr>\n",
       "      <th>0</th>\n",
       "      <td>$$1$$</td>\n",
       "      <td>$$\\frac{1}{s}$$</td>\n",
       "    </tr>\n",
       "    <tr>\n",
       "      <th>1</th>\n",
       "      <td>$$t$$</td>\n",
       "      <td>$$\\frac{1}{s^{2}}$$</td>\n",
       "    </tr>\n",
       "    <tr>\n",
       "      <th>2</th>\n",
       "      <td>$$e^{- \\sigma t}$$</td>\n",
       "      <td>$$\\frac{1}{s + \\sigma}$$</td>\n",
       "    </tr>\n",
       "    <tr>\n",
       "      <th>3</th>\n",
       "      <td>$$t e^{- \\sigma t}$$</td>\n",
       "      <td>$$\\frac{1}{\\left(s + \\sigma\\right)^{2}}$$</td>\n",
       "    </tr>\n",
       "    <tr>\n",
       "      <th>4</th>\n",
       "      <td>$$t^{2} e^{- \\sigma t}$$</td>\n",
       "      <td>$$\\frac{2}{\\left(s + \\sigma\\right)^{3}}$$</td>\n",
       "    </tr>\n",
       "    <tr>\n",
       "      <th>5</th>\n",
       "      <td>$$\\sin{\\left(\\omega t \\right)}$$</td>\n",
       "      <td>$$\\frac{\\omega}{\\omega^{2} + s^{2}}$$</td>\n",
       "    </tr>\n",
       "    <tr>\n",
       "      <th>6</th>\n",
       "      <td>$$\\cos{\\left(\\omega t \\right)}$$</td>\n",
       "      <td>$$\\frac{s}{\\omega^{2} + s^{2}}$$</td>\n",
       "    </tr>\n",
       "    <tr>\n",
       "      <th>7</th>\n",
       "      <td>$$1 - e^{- \\sigma t}$$</td>\n",
       "      <td>$$\\frac{\\sigma}{s \\left(s + \\sigma\\right)}$$</td>\n",
       "    </tr>\n",
       "    <tr>\n",
       "      <th>8</th>\n",
       "      <td>$$e^{- \\sigma t} \\sin{\\left(\\omega t \\right)}$$</td>\n",
       "      <td>$$\\frac{\\omega}{\\omega^{2} + \\left(s + \\sigma\\...</td>\n",
       "    </tr>\n",
       "    <tr>\n",
       "      <th>9</th>\n",
       "      <td>$$e^{- \\sigma t} \\cos{\\left(\\omega t \\right)}$$</td>\n",
       "      <td>$$\\frac{s + \\sigma}{\\omega^{2} + \\left(s + \\si...</td>\n",
       "    </tr>\n",
       "  </tbody>\n",
       "</table>\n",
       "</div>"
      ],
      "text/plain": [
       "                                                 0  \\\n",
       "0                                            $$1$$   \n",
       "1                                            $$t$$   \n",
       "2                               $$e^{- \\sigma t}$$   \n",
       "3                             $$t e^{- \\sigma t}$$   \n",
       "4                         $$t^{2} e^{- \\sigma t}$$   \n",
       "5                 $$\\sin{\\left(\\omega t \\right)}$$   \n",
       "6                 $$\\cos{\\left(\\omega t \\right)}$$   \n",
       "7                           $$1 - e^{- \\sigma t}$$   \n",
       "8  $$e^{- \\sigma t} \\sin{\\left(\\omega t \\right)}$$   \n",
       "9  $$e^{- \\sigma t} \\cos{\\left(\\omega t \\right)}$$   \n",
       "\n",
       "                                                   1  \n",
       "0                                    $$\\frac{1}{s}$$  \n",
       "1                                $$\\frac{1}{s^{2}}$$  \n",
       "2                           $$\\frac{1}{s + \\sigma}$$  \n",
       "3          $$\\frac{1}{\\left(s + \\sigma\\right)^{2}}$$  \n",
       "4          $$\\frac{2}{\\left(s + \\sigma\\right)^{3}}$$  \n",
       "5              $$\\frac{\\omega}{\\omega^{2} + s^{2}}$$  \n",
       "6                   $$\\frac{s}{\\omega^{2} + s^{2}}$$  \n",
       "7       $$\\frac{\\sigma}{s \\left(s + \\sigma\\right)}$$  \n",
       "8  $$\\frac{\\omega}{\\omega^{2} + \\left(s + \\sigma\\...  \n",
       "9  $$\\frac{s + \\sigma}{\\omega^{2} + \\left(s + \\si...  "
      ]
     },
     "execution_count": 25,
     "metadata": {},
     "output_type": "execute_result"
    }
   ],
   "source": [
    "# make a better table\n",
    "from pandas import DataFrame\n",
    "def makelatex(args):\n",
    "    return [\"$${}$$\".format(sp.latex(a)) for a in args]\n",
    "DataFrame(list(zip(makelatex(fs), makelatex(Fs))))"
   ]
  }
 ],
 "metadata": {
  "kernelspec": {
   "display_name": "Python 3 (ipykernel)",
   "language": "python",
   "name": "python3"
  },
  "language_info": {
   "codemirror_mode": {
    "name": "ipython",
    "version": 3
   },
   "file_extension": ".py",
   "mimetype": "text/x-python",
   "name": "python",
   "nbconvert_exporter": "python",
   "pygments_lexer": "ipython3",
   "version": "3.9.12"
  }
 },
 "nbformat": 4,
 "nbformat_minor": 4
}
